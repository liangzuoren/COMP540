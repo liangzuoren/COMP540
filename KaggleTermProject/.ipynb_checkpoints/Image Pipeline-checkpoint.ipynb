{
 "cells": [
  {
   "cell_type": "code",
   "execution_count": 7,
   "metadata": {},
   "outputs": [],
   "source": [
    "import pandas as pd\n",
    "import numpy as np\n",
    "from sklearn import linear_model\n",
    "import os\n",
    "import sys\n",
    "import re\n",
    "\n",
    "current_wd = os.getcwd()\n",
    "training_data_path = current_wd + \"\\\\input\\\\stage1_train\"\n",
    "testing_data_path = current_wd + \"\\\\input\\\\stage1_test\"\n",
    "\n",
    "cd(training_data_path)\n",
    "\n",
    "cd(\"..\")\n",
    "cd(\"..\")"
   ]
  }
 ],
 "metadata": {
  "kernelspec": {
   "display_name": "Python 3",
   "language": "python",
   "name": "python3"
  },
  "language_info": {
   "codemirror_mode": {
    "name": "ipython",
    "version": 3
   },
   "file_extension": ".py",
   "mimetype": "text/x-python",
   "name": "python",
   "nbconvert_exporter": "python",
   "pygments_lexer": "ipython3",
   "version": "3.6.4"
  }
 },
 "nbformat": 4,
 "nbformat_minor": 2
}
